{
 "cells": [
  {
   "cell_type": "code",
   "execution_count": 1,
   "id": "cf7befee",
   "metadata": {},
   "outputs": [
    {
     "name": "stdout",
     "output_type": "stream",
     "text": [
      "Collecting pandas\n",
      "  Downloading pandas-1.5.0-cp310-cp310-win_amd64.whl (10.4 MB)\n",
      "     ---------------------------------------- 10.4/10.4 MB 8.0 MB/s eta 0:00:00\n",
      "Requirement already satisfied: numpy>=1.21.0 in c:\\programdata\\anaconda3\\envs\\dm\\lib\\site-packages (from pandas) (1.23.3)\n",
      "Collecting pytz>=2020.1\n",
      "  Downloading pytz-2022.4-py2.py3-none-any.whl (500 kB)\n",
      "     -------------------------------------- 500.8/500.8 kB 7.8 MB/s eta 0:00:00\n",
      "Requirement already satisfied: python-dateutil>=2.8.1 in c:\\programdata\\anaconda3\\envs\\dm\\lib\\site-packages (from pandas) (2.8.2)\n",
      "Requirement already satisfied: six>=1.5 in c:\\programdata\\anaconda3\\envs\\dm\\lib\\site-packages (from python-dateutil>=2.8.1->pandas) (1.16.0)\n",
      "Installing collected packages: pytz, pandas\n",
      "Successfully installed pandas-1.5.0 pytz-2022.4\n"
     ]
    }
   ],
   "source": [
    "!pip install pandas"
   ]
  },
  {
   "cell_type": "code",
   "execution_count": 2,
   "id": "02d4476e",
   "metadata": {},
   "outputs": [],
   "source": [
    "import pandas as pd"
   ]
  },
  {
   "cell_type": "code",
   "execution_count": 3,
   "id": "9c7cf7e3",
   "metadata": {},
   "outputs": [
    {
     "data": {
      "text/plain": [
       "<module 'pandas' from 'C:\\\\ProgramData\\\\Anaconda3\\\\envs\\\\DM\\\\lib\\\\site-packages\\\\pandas\\\\__init__.py'>"
      ]
     },
     "execution_count": 3,
     "metadata": {},
     "output_type": "execute_result"
    }
   ],
   "source": [
    "pd"
   ]
  },
  {
   "cell_type": "code",
   "execution_count": 12,
   "id": "5c6f8875",
   "metadata": {},
   "outputs": [
    {
     "name": "stdout",
     "output_type": "stream",
     "text": [
      "0    1\n",
      "1    2\n",
      "2    3\n",
      "3    4\n",
      "4    5\n",
      "dtype: int64 \n",
      "\n",
      "[1 2 3 4 5]\n",
      "RangeIndex(start=0, stop=5, step=1)\n"
     ]
    }
   ],
   "source": [
    "hipandas = pd.Series([1,2,3,4,5])\n",
    "print(hipandas)            #顯示Series\n",
    "print(hipandas.values)     #顯示值\n",
    "print(hipandas.index)      #顯示索引"
   ]
  },
  {
   "cell_type": "code",
   "execution_count": 13,
   "id": "637bf176",
   "metadata": {},
   "outputs": [
    {
     "name": "stdout",
     "output_type": "stream",
     "text": [
      "0     5\n",
      "1     6\n",
      "2     7\n",
      "3     8\n",
      "4     9\n",
      "5    10\n",
      "dtype: int64\n",
      "[ 5  6  7  8  9 10]\n",
      "RangeIndex(start=0, stop=6, step=1)\n"
     ]
    }
   ],
   "source": [
    "hipandas1 = pd.Series([5,6,7,8,9,10])\n",
    "print(hipandas1)            #顯示Series\n",
    "print(hipandas1.values)     #顯示值\n",
    "print(hipandas1.index)      #顯示索引"
   ]
  },
  {
   "cell_type": "code",
   "execution_count": 14,
   "id": "e42c3dea",
   "metadata": {},
   "outputs": [],
   "source": [
    "dict1 = {'Taipei':'台北','Taichung':'台中','Kaohsiung':'高雄'}"
   ]
  },
  {
   "cell_type": "code",
   "execution_count": 15,
   "id": "87f49d2e",
   "metadata": {},
   "outputs": [
    {
     "data": {
      "text/plain": [
       "{'Taipei': '台北', 'Taichung': '台中', 'Kaohsiung': '高雄'}"
      ]
     },
     "execution_count": 15,
     "metadata": {},
     "output_type": "execute_result"
    }
   ],
   "source": [
    "dict1"
   ]
  },
  {
   "cell_type": "code",
   "execution_count": 16,
   "id": "07a9c5eb",
   "metadata": {},
   "outputs": [],
   "source": [
    "city = pd.Series(dict1)"
   ]
  },
  {
   "cell_type": "code",
   "execution_count": 18,
   "id": "ad1846fa",
   "metadata": {},
   "outputs": [
    {
     "name": "stdout",
     "output_type": "stream",
     "text": [
      "Taipei       台北\n",
      "Taichung     台中\n",
      "Kaohsiung    高雄\n",
      "dtype: object\n"
     ]
    }
   ],
   "source": [
    "print(city)   #顯示Series"
   ]
  },
  {
   "cell_type": "code",
   "execution_count": 19,
   "id": "8c884171",
   "metadata": {},
   "outputs": [
    {
     "name": "stdout",
     "output_type": "stream",
     "text": [
      "['台北' '台中' '高雄']\n"
     ]
    }
   ],
   "source": [
    "print(city.values)  #顯示值"
   ]
  },
  {
   "cell_type": "code",
   "execution_count": 20,
   "id": "d059b86d",
   "metadata": {},
   "outputs": [
    {
     "name": "stdout",
     "output_type": "stream",
     "text": [
      "Index(['Taipei', 'Taichung', 'Kaohsiung'], dtype='object')\n"
     ]
    }
   ],
   "source": [
    "print(city.index) #顯示索引"
   ]
  },
  {
   "cell_type": "code",
   "execution_count": 24,
   "id": "d0553284",
   "metadata": {},
   "outputs": [
    {
     "name": "stdout",
     "output_type": "stream",
     "text": [
      "台北\n"
     ]
    }
   ],
   "source": [
    "print(city['Taipei'])"
   ]
  },
  {
   "cell_type": "code",
   "execution_count": 25,
   "id": "6ee4f04b",
   "metadata": {},
   "outputs": [
    {
     "name": "stdout",
     "output_type": "stream",
     "text": [
      "Taipei       台北\n",
      "Taichung     台中\n",
      "Kaohsiung    高雄\n",
      "dtype: object\n"
     ]
    }
   ],
   "source": [
    "print(city['Taipei':'Kaohsiung'])"
   ]
  },
  {
   "cell_type": "code",
   "execution_count": 28,
   "id": "1065371c",
   "metadata": {},
   "outputs": [
    {
     "name": "stdout",
     "output_type": "stream",
     "text": [
      "Taichung     台中\n",
      "Kaohsiung    高雄\n",
      "dtype: object\n"
     ]
    }
   ],
   "source": [
    "print(city['Taichung':\n",
    "           'Kaohsiung'])"
   ]
  },
  {
   "cell_type": "code",
   "execution_count": 29,
   "id": "be6af313",
   "metadata": {},
   "outputs": [
    {
     "data": {
      "text/plain": [
       "1"
      ]
     },
     "execution_count": 29,
     "metadata": {},
     "output_type": "execute_result"
    }
   ],
   "source": [
    "hipandas[0]"
   ]
  },
  {
   "cell_type": "code",
   "execution_count": 31,
   "id": "94d8a915",
   "metadata": {},
   "outputs": [
    {
     "data": {
      "text/plain": [
       "7"
      ]
     },
     "execution_count": 31,
     "metadata": {},
     "output_type": "execute_result"
    }
   ],
   "source": [
    "hipandas1[2]"
   ]
  },
  {
   "cell_type": "code",
   "execution_count": 32,
   "id": "dfca6e27",
   "metadata": {},
   "outputs": [],
   "source": [
    "se1 = pd.Series([1,2,3,4,5],index=['a','b','c','d','e'])"
   ]
  },
  {
   "cell_type": "code",
   "execution_count": 33,
   "id": "325411b2",
   "metadata": {},
   "outputs": [
    {
     "data": {
      "text/plain": [
       "a    1\n",
       "b    2\n",
       "c    3\n",
       "d    4\n",
       "e    5\n",
       "dtype: int64"
      ]
     },
     "execution_count": 33,
     "metadata": {},
     "output_type": "execute_result"
    }
   ],
   "source": [
    "se1"
   ]
  },
  {
   "cell_type": "code",
   "execution_count": 34,
   "id": "0d919bdf",
   "metadata": {},
   "outputs": [
    {
     "data": {
      "text/plain": [
       "2"
      ]
     },
     "execution_count": 34,
     "metadata": {},
     "output_type": "execute_result"
    }
   ],
   "source": [
    "se1[1]"
   ]
  },
  {
   "cell_type": "code",
   "execution_count": 35,
   "id": "5ff1a8b9",
   "metadata": {},
   "outputs": [
    {
     "data": {
      "text/plain": [
       "2"
      ]
     },
     "execution_count": 35,
     "metadata": {},
     "output_type": "execute_result"
    }
   ],
   "source": [
    "se1['b']"
   ]
  },
  {
   "cell_type": "code",
   "execution_count": 36,
   "id": "a01b5a00",
   "metadata": {},
   "outputs": [
    {
     "name": "stdout",
     "output_type": "stream",
     "text": [
      "1 2 3 4 5\n"
     ]
    }
   ],
   "source": [
    "print(se1['a'],se1['b'],se1['c'],se1['d'],se1['e'])"
   ]
  },
  {
   "cell_type": "code",
   "execution_count": 37,
   "id": "a144e024",
   "metadata": {},
   "outputs": [],
   "source": [
    "df = pd.DataFrame([[13,41,51,24,52],\n",
    "                   [15,25,23,46,59],\n",
    "                   [64,67,57,86,97],\n",
    "                   [37,38,48,58,69]])"
   ]
  },
  {
   "cell_type": "code",
   "execution_count": 38,
   "id": "011ea872",
   "metadata": {},
   "outputs": [
    {
     "data": {
      "text/html": [
       "<div>\n",
       "<style scoped>\n",
       "    .dataframe tbody tr th:only-of-type {\n",
       "        vertical-align: middle;\n",
       "    }\n",
       "\n",
       "    .dataframe tbody tr th {\n",
       "        vertical-align: top;\n",
       "    }\n",
       "\n",
       "    .dataframe thead th {\n",
       "        text-align: right;\n",
       "    }\n",
       "</style>\n",
       "<table border=\"1\" class=\"dataframe\">\n",
       "  <thead>\n",
       "    <tr style=\"text-align: right;\">\n",
       "      <th></th>\n",
       "      <th>0</th>\n",
       "      <th>1</th>\n",
       "      <th>2</th>\n",
       "      <th>3</th>\n",
       "      <th>4</th>\n",
       "    </tr>\n",
       "  </thead>\n",
       "  <tbody>\n",
       "    <tr>\n",
       "      <th>0</th>\n",
       "      <td>13</td>\n",
       "      <td>41</td>\n",
       "      <td>51</td>\n",
       "      <td>24</td>\n",
       "      <td>52</td>\n",
       "    </tr>\n",
       "    <tr>\n",
       "      <th>1</th>\n",
       "      <td>15</td>\n",
       "      <td>25</td>\n",
       "      <td>23</td>\n",
       "      <td>46</td>\n",
       "      <td>59</td>\n",
       "    </tr>\n",
       "    <tr>\n",
       "      <th>2</th>\n",
       "      <td>64</td>\n",
       "      <td>67</td>\n",
       "      <td>57</td>\n",
       "      <td>86</td>\n",
       "      <td>97</td>\n",
       "    </tr>\n",
       "    <tr>\n",
       "      <th>3</th>\n",
       "      <td>37</td>\n",
       "      <td>38</td>\n",
       "      <td>48</td>\n",
       "      <td>58</td>\n",
       "      <td>69</td>\n",
       "    </tr>\n",
       "  </tbody>\n",
       "</table>\n",
       "</div>"
      ],
      "text/plain": [
       "    0   1   2   3   4\n",
       "0  13  41  51  24  52\n",
       "1  15  25  23  46  59\n",
       "2  64  67  57  86  97\n",
       "3  37  38  48  58  69"
      ]
     },
     "execution_count": 38,
     "metadata": {},
     "output_type": "execute_result"
    }
   ],
   "source": [
    "df"
   ]
  },
  {
   "cell_type": "code",
   "execution_count": 39,
   "id": "0dc950bb",
   "metadata": {},
   "outputs": [],
   "source": [
    "df1 = pd.DataFrame([[13,41,51,24,52],\n",
    "                   [15,25,23,46,59],\n",
    "                   [64,67,57,86,97],\n",
    "                   [37,38,48,58,69]],\n",
    "                   index=['王','李','陳','林'],\n",
    "                   columns=['國','英','數','社','自'])"
   ]
  },
  {
   "cell_type": "code",
   "execution_count": 40,
   "id": "605a967c",
   "metadata": {},
   "outputs": [
    {
     "data": {
      "text/html": [
       "<div>\n",
       "<style scoped>\n",
       "    .dataframe tbody tr th:only-of-type {\n",
       "        vertical-align: middle;\n",
       "    }\n",
       "\n",
       "    .dataframe tbody tr th {\n",
       "        vertical-align: top;\n",
       "    }\n",
       "\n",
       "    .dataframe thead th {\n",
       "        text-align: right;\n",
       "    }\n",
       "</style>\n",
       "<table border=\"1\" class=\"dataframe\">\n",
       "  <thead>\n",
       "    <tr style=\"text-align: right;\">\n",
       "      <th></th>\n",
       "      <th>國</th>\n",
       "      <th>英</th>\n",
       "      <th>數</th>\n",
       "      <th>社</th>\n",
       "      <th>自</th>\n",
       "    </tr>\n",
       "  </thead>\n",
       "  <tbody>\n",
       "    <tr>\n",
       "      <th>王</th>\n",
       "      <td>13</td>\n",
       "      <td>41</td>\n",
       "      <td>51</td>\n",
       "      <td>24</td>\n",
       "      <td>52</td>\n",
       "    </tr>\n",
       "    <tr>\n",
       "      <th>李</th>\n",
       "      <td>15</td>\n",
       "      <td>25</td>\n",
       "      <td>23</td>\n",
       "      <td>46</td>\n",
       "      <td>59</td>\n",
       "    </tr>\n",
       "    <tr>\n",
       "      <th>陳</th>\n",
       "      <td>64</td>\n",
       "      <td>67</td>\n",
       "      <td>57</td>\n",
       "      <td>86</td>\n",
       "      <td>97</td>\n",
       "    </tr>\n",
       "    <tr>\n",
       "      <th>林</th>\n",
       "      <td>37</td>\n",
       "      <td>38</td>\n",
       "      <td>48</td>\n",
       "      <td>58</td>\n",
       "      <td>69</td>\n",
       "    </tr>\n",
       "  </tbody>\n",
       "</table>\n",
       "</div>"
      ],
      "text/plain": [
       "    國   英   數   社   自\n",
       "王  13  41  51  24  52\n",
       "李  15  25  23  46  59\n",
       "陳  64  67  57  86  97\n",
       "林  37  38  48  58  69"
      ]
     },
     "execution_count": 40,
     "metadata": {},
     "output_type": "execute_result"
    }
   ],
   "source": [
    "df1"
   ]
  },
  {
   "cell_type": "code",
   "execution_count": 41,
   "id": "439d572f",
   "metadata": {},
   "outputs": [],
   "source": [
    "scores={'國文':{'王小明':65,'李小美':90,'陳大同':81,'林小玉':79},\n",
    "        '英文':{'王小明':92,'李小美':72,'陳大同':85,'林小玉':53},\n",
    "        '數學':{'王小明':78,'李小美':76,'陳大同':91,'林小玉':47}, \n",
    "        '自然':{'王小明':83,'李小美':93,'陳大同':89,'林小玉':94},\n",
    "        '社會':{'王小明':70,'李小美':56,'陳大同':94,'林小玉':80}}\n",
    "df2 = pd.DataFrame(scores)"
   ]
  },
  {
   "cell_type": "code",
   "execution_count": 42,
   "id": "01b51e93",
   "metadata": {},
   "outputs": [
    {
     "data": {
      "text/html": [
       "<div>\n",
       "<style scoped>\n",
       "    .dataframe tbody tr th:only-of-type {\n",
       "        vertical-align: middle;\n",
       "    }\n",
       "\n",
       "    .dataframe tbody tr th {\n",
       "        vertical-align: top;\n",
       "    }\n",
       "\n",
       "    .dataframe thead th {\n",
       "        text-align: right;\n",
       "    }\n",
       "</style>\n",
       "<table border=\"1\" class=\"dataframe\">\n",
       "  <thead>\n",
       "    <tr style=\"text-align: right;\">\n",
       "      <th></th>\n",
       "      <th>國文</th>\n",
       "      <th>英文</th>\n",
       "      <th>數學</th>\n",
       "      <th>自然</th>\n",
       "      <th>社會</th>\n",
       "    </tr>\n",
       "  </thead>\n",
       "  <tbody>\n",
       "    <tr>\n",
       "      <th>王小明</th>\n",
       "      <td>65</td>\n",
       "      <td>92</td>\n",
       "      <td>78</td>\n",
       "      <td>83</td>\n",
       "      <td>70</td>\n",
       "    </tr>\n",
       "    <tr>\n",
       "      <th>李小美</th>\n",
       "      <td>90</td>\n",
       "      <td>72</td>\n",
       "      <td>76</td>\n",
       "      <td>93</td>\n",
       "      <td>56</td>\n",
       "    </tr>\n",
       "    <tr>\n",
       "      <th>陳大同</th>\n",
       "      <td>81</td>\n",
       "      <td>85</td>\n",
       "      <td>91</td>\n",
       "      <td>89</td>\n",
       "      <td>94</td>\n",
       "    </tr>\n",
       "    <tr>\n",
       "      <th>林小玉</th>\n",
       "      <td>79</td>\n",
       "      <td>53</td>\n",
       "      <td>47</td>\n",
       "      <td>94</td>\n",
       "      <td>80</td>\n",
       "    </tr>\n",
       "  </tbody>\n",
       "</table>\n",
       "</div>"
      ],
      "text/plain": [
       "     國文  英文  數學  自然  社會\n",
       "王小明  65  92  78  83  70\n",
       "李小美  90  72  76  93  56\n",
       "陳大同  81  85  91  89  94\n",
       "林小玉  79  53  47  94  80"
      ]
     },
     "execution_count": 42,
     "metadata": {},
     "output_type": "execute_result"
    }
   ],
   "source": [
    "df2"
   ]
  },
  {
   "cell_type": "code",
   "execution_count": 43,
   "id": "3018d033",
   "metadata": {},
   "outputs": [
    {
     "data": {
      "text/html": [
       "<div>\n",
       "<style scoped>\n",
       "    .dataframe tbody tr th:only-of-type {\n",
       "        vertical-align: middle;\n",
       "    }\n",
       "\n",
       "    .dataframe tbody tr th {\n",
       "        vertical-align: top;\n",
       "    }\n",
       "\n",
       "    .dataframe thead th {\n",
       "        text-align: right;\n",
       "    }\n",
       "</style>\n",
       "<table border=\"1\" class=\"dataframe\">\n",
       "  <thead>\n",
       "    <tr style=\"text-align: right;\">\n",
       "      <th></th>\n",
       "      <th>國文</th>\n",
       "      <th>英文</th>\n",
       "      <th>數學</th>\n",
       "      <th>自然</th>\n",
       "      <th>社會</th>\n",
       "    </tr>\n",
       "  </thead>\n",
       "  <tbody>\n",
       "    <tr>\n",
       "      <th>王小明</th>\n",
       "      <td>65</td>\n",
       "      <td>92</td>\n",
       "      <td>78</td>\n",
       "      <td>83</td>\n",
       "      <td>70</td>\n",
       "    </tr>\n",
       "    <tr>\n",
       "      <th>李小美</th>\n",
       "      <td>90</td>\n",
       "      <td>72</td>\n",
       "      <td>76</td>\n",
       "      <td>93</td>\n",
       "      <td>56</td>\n",
       "    </tr>\n",
       "    <tr>\n",
       "      <th>陳大同</th>\n",
       "      <td>81</td>\n",
       "      <td>85</td>\n",
       "      <td>91</td>\n",
       "      <td>89</td>\n",
       "      <td>94</td>\n",
       "    </tr>\n",
       "    <tr>\n",
       "      <th>林小玉</th>\n",
       "      <td>79</td>\n",
       "      <td>53</td>\n",
       "      <td>47</td>\n",
       "      <td>94</td>\n",
       "      <td>80</td>\n",
       "    </tr>\n",
       "  </tbody>\n",
       "</table>\n",
       "</div>"
      ],
      "text/plain": [
       "     國文  英文  數學  自然  社會\n",
       "王小明  65  92  78  83  70\n",
       "李小美  90  72  76  93  56\n",
       "陳大同  81  85  91  89  94\n",
       "林小玉  79  53  47  94  80"
      ]
     },
     "execution_count": 43,
     "metadata": {},
     "output_type": "execute_result"
    }
   ],
   "source": [
    "se1 = pd.Series({'王小明':65,'李小美':90,'陳大同':81,'林小玉':79})\n",
    "se2 = pd.Series({'王小明':92,'李小美':72,'陳大同':85,'林小玉':53})\n",
    "se3 = pd.Series({'王小明':78,'李小美':76,'陳大同':91,'林小玉':47})\n",
    "se4 = pd.Series({'王小明':83,'李小美':93,'陳大同':89,'林小玉':94})\n",
    "se5 = pd.Series({'王小明':70,'李小美':56,'陳大同':94,'林小玉':80})\n",
    "df3 = pd.DataFrame({ '國文':se1,'英文':se2,'數學':se3,\n",
    "                   '自然':se4,'社會':se5} )\n",
    "df3"
   ]
  },
  {
   "cell_type": "code",
   "execution_count": 45,
   "id": "9285d009",
   "metadata": {},
   "outputs": [
    {
     "name": "stdout",
     "output_type": "stream",
     "text": [
      "      0   1   2   3   4\n",
      "王小明  65  92  78  83  70\n",
      "李小美  90  72  76  93  56\n",
      "陳大同  81  85  91  89  94\n",
      "林小玉  79  53  47  94  80\n"
     ]
    },
    {
     "data": {
      "text/html": [
       "<div>\n",
       "<style scoped>\n",
       "    .dataframe tbody tr th:only-of-type {\n",
       "        vertical-align: middle;\n",
       "    }\n",
       "\n",
       "    .dataframe tbody tr th {\n",
       "        vertical-align: top;\n",
       "    }\n",
       "\n",
       "    .dataframe thead th {\n",
       "        text-align: right;\n",
       "    }\n",
       "</style>\n",
       "<table border=\"1\" class=\"dataframe\">\n",
       "  <thead>\n",
       "    <tr style=\"text-align: right;\">\n",
       "      <th></th>\n",
       "      <th>國文</th>\n",
       "      <th>英文</th>\n",
       "      <th>數學</th>\n",
       "      <th>自然</th>\n",
       "      <th>社會</th>\n",
       "    </tr>\n",
       "  </thead>\n",
       "  <tbody>\n",
       "    <tr>\n",
       "      <th>王小明</th>\n",
       "      <td>65</td>\n",
       "      <td>92</td>\n",
       "      <td>78</td>\n",
       "      <td>83</td>\n",
       "      <td>70</td>\n",
       "    </tr>\n",
       "    <tr>\n",
       "      <th>李小美</th>\n",
       "      <td>90</td>\n",
       "      <td>72</td>\n",
       "      <td>76</td>\n",
       "      <td>93</td>\n",
       "      <td>56</td>\n",
       "    </tr>\n",
       "    <tr>\n",
       "      <th>陳大同</th>\n",
       "      <td>81</td>\n",
       "      <td>85</td>\n",
       "      <td>91</td>\n",
       "      <td>89</td>\n",
       "      <td>94</td>\n",
       "    </tr>\n",
       "    <tr>\n",
       "      <th>林小玉</th>\n",
       "      <td>79</td>\n",
       "      <td>53</td>\n",
       "      <td>47</td>\n",
       "      <td>94</td>\n",
       "      <td>80</td>\n",
       "    </tr>\n",
       "  </tbody>\n",
       "</table>\n",
       "</div>"
      ],
      "text/plain": [
       "     國文  英文  數學  自然  社會\n",
       "王小明  65  92  78  83  70\n",
       "李小美  90  72  76  93  56\n",
       "陳大同  81  85  91  89  94\n",
       "林小玉  79  53  47  94  80"
      ]
     },
     "execution_count": 45,
     "metadata": {},
     "output_type": "execute_result"
    }
   ],
   "source": [
    "se1 = pd.Series({'王小明':65,'李小美':90,'陳大同':81,'林小玉':79})\n",
    "se2 = pd.Series({'王小明':92,'李小美':72,'陳大同':85,'林小玉':53})\n",
    "se3 = pd.Series({'王小明':78,'李小美':76,'陳大同':91,'林小玉':47})\n",
    "se4 = pd.Series({'王小明':83,'李小美':93,'陳大同':89,'林小玉':94})\n",
    "se5 = pd.Series({'王小明':70,'李小美':56,'陳大同':94,'林小玉':80})\n",
    "df4 = pd.concat([se1,se2,se3,se4,se5], axis=1)\n",
    "print(df4)\n",
    "df4.columns=['國文','英文','數學','自然','社會']\n",
    "df4"
   ]
  },
  {
   "cell_type": "code",
   "execution_count": 46,
   "id": "ab04b6a4",
   "metadata": {},
   "outputs": [
    {
     "data": {
      "text/plain": [
       "王小明    83\n",
       "李小美    93\n",
       "陳大同    89\n",
       "林小玉    94\n",
       "Name: 自然, dtype: int64"
      ]
     },
     "execution_count": 46,
     "metadata": {},
     "output_type": "execute_result"
    }
   ],
   "source": [
    "df4['自然']"
   ]
  },
  {
   "cell_type": "code",
   "execution_count": 47,
   "id": "6185ec86",
   "metadata": {},
   "outputs": [
    {
     "data": {
      "text/plain": [
       "王小明    78\n",
       "李小美    76\n",
       "陳大同    91\n",
       "林小玉    47\n",
       "Name: 數學, dtype: int64"
      ]
     },
     "execution_count": 47,
     "metadata": {},
     "output_type": "execute_result"
    }
   ],
   "source": [
    "df4['數學']"
   ]
  },
  {
   "cell_type": "code",
   "execution_count": 48,
   "id": "6df44330",
   "metadata": {},
   "outputs": [
    {
     "data": {
      "text/plain": [
       "王小明    70\n",
       "李小美    56\n",
       "陳大同    94\n",
       "林小玉    80\n",
       "Name: 社會, dtype: int64"
      ]
     },
     "execution_count": 48,
     "metadata": {},
     "output_type": "execute_result"
    }
   ],
   "source": [
    "df4['社會']"
   ]
  },
  {
   "cell_type": "code",
   "execution_count": 50,
   "id": "859c63f5",
   "metadata": {},
   "outputs": [
    {
     "data": {
      "text/html": [
       "<div>\n",
       "<style scoped>\n",
       "    .dataframe tbody tr th:only-of-type {\n",
       "        vertical-align: middle;\n",
       "    }\n",
       "\n",
       "    .dataframe tbody tr th {\n",
       "        vertical-align: top;\n",
       "    }\n",
       "\n",
       "    .dataframe thead th {\n",
       "        text-align: right;\n",
       "    }\n",
       "</style>\n",
       "<table border=\"1\" class=\"dataframe\">\n",
       "  <thead>\n",
       "    <tr style=\"text-align: right;\">\n",
       "      <th></th>\n",
       "      <th>自然</th>\n",
       "      <th>數學</th>\n",
       "      <th>社會</th>\n",
       "    </tr>\n",
       "  </thead>\n",
       "  <tbody>\n",
       "    <tr>\n",
       "      <th>王小明</th>\n",
       "      <td>83</td>\n",
       "      <td>78</td>\n",
       "      <td>70</td>\n",
       "    </tr>\n",
       "    <tr>\n",
       "      <th>李小美</th>\n",
       "      <td>93</td>\n",
       "      <td>76</td>\n",
       "      <td>56</td>\n",
       "    </tr>\n",
       "    <tr>\n",
       "      <th>陳大同</th>\n",
       "      <td>89</td>\n",
       "      <td>91</td>\n",
       "      <td>94</td>\n",
       "    </tr>\n",
       "    <tr>\n",
       "      <th>林小玉</th>\n",
       "      <td>94</td>\n",
       "      <td>47</td>\n",
       "      <td>80</td>\n",
       "    </tr>\n",
       "  </tbody>\n",
       "</table>\n",
       "</div>"
      ],
      "text/plain": [
       "     自然  數學  社會\n",
       "王小明  83  78  70\n",
       "李小美  93  76  56\n",
       "陳大同  89  91  94\n",
       "林小玉  94  47  80"
      ]
     },
     "execution_count": 50,
     "metadata": {},
     "output_type": "execute_result"
    }
   ],
   "source": [
    "df4[['自然','數學','社會']]"
   ]
  },
  {
   "cell_type": "code",
   "execution_count": 51,
   "id": "e39b9793",
   "metadata": {},
   "outputs": [
    {
     "data": {
      "text/html": [
       "<div>\n",
       "<style scoped>\n",
       "    .dataframe tbody tr th:only-of-type {\n",
       "        vertical-align: middle;\n",
       "    }\n",
       "\n",
       "    .dataframe tbody tr th {\n",
       "        vertical-align: top;\n",
       "    }\n",
       "\n",
       "    .dataframe thead th {\n",
       "        text-align: right;\n",
       "    }\n",
       "</style>\n",
       "<table border=\"1\" class=\"dataframe\">\n",
       "  <thead>\n",
       "    <tr style=\"text-align: right;\">\n",
       "      <th></th>\n",
       "      <th>國文</th>\n",
       "      <th>英文</th>\n",
       "      <th>數學</th>\n",
       "      <th>自然</th>\n",
       "      <th>社會</th>\n",
       "    </tr>\n",
       "  </thead>\n",
       "  <tbody>\n",
       "    <tr>\n",
       "      <th>李小美</th>\n",
       "      <td>90</td>\n",
       "      <td>72</td>\n",
       "      <td>76</td>\n",
       "      <td>93</td>\n",
       "      <td>56</td>\n",
       "    </tr>\n",
       "    <tr>\n",
       "      <th>陳大同</th>\n",
       "      <td>81</td>\n",
       "      <td>85</td>\n",
       "      <td>91</td>\n",
       "      <td>89</td>\n",
       "      <td>94</td>\n",
       "    </tr>\n",
       "    <tr>\n",
       "      <th>林小玉</th>\n",
       "      <td>79</td>\n",
       "      <td>53</td>\n",
       "      <td>47</td>\n",
       "      <td>94</td>\n",
       "      <td>80</td>\n",
       "    </tr>\n",
       "  </tbody>\n",
       "</table>\n",
       "</div>"
      ],
      "text/plain": [
       "     國文  英文  數學  自然  社會\n",
       "李小美  90  72  76  93  56\n",
       "陳大同  81  85  91  89  94\n",
       "林小玉  79  53  47  94  80"
      ]
     },
     "execution_count": 51,
     "metadata": {},
     "output_type": "execute_result"
    }
   ],
   "source": [
    "df4[df4['國文'] >= 70]"
   ]
  },
  {
   "cell_type": "code",
   "execution_count": 52,
   "id": "d1e959d7",
   "metadata": {},
   "outputs": [
    {
     "data": {
      "text/html": [
       "<div>\n",
       "<style scoped>\n",
       "    .dataframe tbody tr th:only-of-type {\n",
       "        vertical-align: middle;\n",
       "    }\n",
       "\n",
       "    .dataframe tbody tr th {\n",
       "        vertical-align: top;\n",
       "    }\n",
       "\n",
       "    .dataframe thead th {\n",
       "        text-align: right;\n",
       "    }\n",
       "</style>\n",
       "<table border=\"1\" class=\"dataframe\">\n",
       "  <thead>\n",
       "    <tr style=\"text-align: right;\">\n",
       "      <th></th>\n",
       "      <th>國文</th>\n",
       "      <th>英文</th>\n",
       "      <th>數學</th>\n",
       "      <th>自然</th>\n",
       "      <th>社會</th>\n",
       "    </tr>\n",
       "  </thead>\n",
       "  <tbody>\n",
       "    <tr>\n",
       "      <th>陳大同</th>\n",
       "      <td>81</td>\n",
       "      <td>85</td>\n",
       "      <td>91</td>\n",
       "      <td>89</td>\n",
       "      <td>94</td>\n",
       "    </tr>\n",
       "  </tbody>\n",
       "</table>\n",
       "</div>"
      ],
      "text/plain": [
       "     國文  英文  數學  自然  社會\n",
       "陳大同  81  85  91  89  94"
      ]
     },
     "execution_count": 52,
     "metadata": {},
     "output_type": "execute_result"
    }
   ],
   "source": [
    "df4[df4['數學'] >= 80]"
   ]
  },
  {
   "cell_type": "code",
   "execution_count": 53,
   "id": "65acb096",
   "metadata": {},
   "outputs": [
    {
     "data": {
      "text/html": [
       "<div>\n",
       "<style scoped>\n",
       "    .dataframe tbody tr th:only-of-type {\n",
       "        vertical-align: middle;\n",
       "    }\n",
       "\n",
       "    .dataframe tbody tr th {\n",
       "        vertical-align: top;\n",
       "    }\n",
       "\n",
       "    .dataframe thead th {\n",
       "        text-align: right;\n",
       "    }\n",
       "</style>\n",
       "<table border=\"1\" class=\"dataframe\">\n",
       "  <thead>\n",
       "    <tr style=\"text-align: right;\">\n",
       "      <th></th>\n",
       "      <th>國文</th>\n",
       "      <th>英文</th>\n",
       "      <th>數學</th>\n",
       "      <th>自然</th>\n",
       "      <th>社會</th>\n",
       "    </tr>\n",
       "  </thead>\n",
       "  <tbody>\n",
       "    <tr>\n",
       "      <th>王小明</th>\n",
       "      <td>65</td>\n",
       "      <td>92</td>\n",
       "      <td>78</td>\n",
       "      <td>83</td>\n",
       "      <td>70</td>\n",
       "    </tr>\n",
       "  </tbody>\n",
       "</table>\n",
       "</div>"
      ],
      "text/plain": [
       "     國文  英文  數學  自然  社會\n",
       "王小明  65  92  78  83  70"
      ]
     },
     "execution_count": 53,
     "metadata": {},
     "output_type": "execute_result"
    }
   ],
   "source": [
    "df4[df4['英文'] >= 90]"
   ]
  },
  {
   "cell_type": "code",
   "execution_count": 54,
   "id": "0d300f43",
   "metadata": {},
   "outputs": [
    {
     "data": {
      "text/html": [
       "<div>\n",
       "<style scoped>\n",
       "    .dataframe tbody tr th:only-of-type {\n",
       "        vertical-align: middle;\n",
       "    }\n",
       "\n",
       "    .dataframe tbody tr th {\n",
       "        vertical-align: top;\n",
       "    }\n",
       "\n",
       "    .dataframe thead th {\n",
       "        text-align: right;\n",
       "    }\n",
       "</style>\n",
       "<table border=\"1\" class=\"dataframe\">\n",
       "  <thead>\n",
       "    <tr style=\"text-align: right;\">\n",
       "      <th></th>\n",
       "      <th>國文</th>\n",
       "      <th>英文</th>\n",
       "      <th>數學</th>\n",
       "      <th>自然</th>\n",
       "      <th>社會</th>\n",
       "    </tr>\n",
       "  </thead>\n",
       "  <tbody>\n",
       "    <tr>\n",
       "      <th>王小明</th>\n",
       "      <td>65</td>\n",
       "      <td>92</td>\n",
       "      <td>78</td>\n",
       "      <td>83</td>\n",
       "      <td>70</td>\n",
       "    </tr>\n",
       "  </tbody>\n",
       "</table>\n",
       "</div>"
      ],
      "text/plain": [
       "     國文  英文  數學  自然  社會\n",
       "王小明  65  92  78  83  70"
      ]
     },
     "execution_count": 54,
     "metadata": {},
     "output_type": "execute_result"
    }
   ],
   "source": [
    "df4[df4['國文'] <= 70]"
   ]
  },
  {
   "cell_type": "code",
   "execution_count": 55,
   "id": "f8f8f545",
   "metadata": {},
   "outputs": [
    {
     "data": {
      "text/plain": [
       "80"
      ]
     },
     "execution_count": 55,
     "metadata": {},
     "output_type": "execute_result"
    }
   ],
   "source": [
    "df4.loc[\"林小玉\",'社會']"
   ]
  },
  {
   "cell_type": "code",
   "execution_count": 56,
   "id": "df8c9744",
   "metadata": {},
   "outputs": [
    {
     "data": {
      "text/plain": [
       "國文    79\n",
       "社會    80\n",
       "Name: 林小玉, dtype: int64"
      ]
     },
     "execution_count": 56,
     "metadata": {},
     "output_type": "execute_result"
    }
   ],
   "source": [
    "df4.loc[\"林小玉\",['國文','社會']]"
   ]
  },
  {
   "cell_type": "code",
   "execution_count": 60,
   "id": "3ac49470",
   "metadata": {},
   "outputs": [
    {
     "data": {
      "text/plain": [
       "數學    47\n",
       "自然    94\n",
       "社會    80\n",
       "Name: 林小玉, dtype: int64"
      ]
     },
     "execution_count": 60,
     "metadata": {},
     "output_type": "execute_result"
    }
   ],
   "source": [
    "df4.loc[\"林小玉\",'數學':'社會']"
   ]
  },
  {
   "cell_type": "code",
   "execution_count": 61,
   "id": "076a8d55",
   "metadata": {},
   "outputs": [
    {
     "data": {
      "text/html": [
       "<div>\n",
       "<style scoped>\n",
       "    .dataframe tbody tr th:only-of-type {\n",
       "        vertical-align: middle;\n",
       "    }\n",
       "\n",
       "    .dataframe tbody tr th {\n",
       "        vertical-align: top;\n",
       "    }\n",
       "\n",
       "    .dataframe thead th {\n",
       "        text-align: right;\n",
       "    }\n",
       "</style>\n",
       "<table border=\"1\" class=\"dataframe\">\n",
       "  <thead>\n",
       "    <tr style=\"text-align: right;\">\n",
       "      <th></th>\n",
       "      <th>數學</th>\n",
       "      <th>自然</th>\n",
       "      <th>社會</th>\n",
       "    </tr>\n",
       "  </thead>\n",
       "  <tbody>\n",
       "    <tr>\n",
       "      <th>李小美</th>\n",
       "      <td>76</td>\n",
       "      <td>93</td>\n",
       "      <td>56</td>\n",
       "    </tr>\n",
       "    <tr>\n",
       "      <th>陳大同</th>\n",
       "      <td>91</td>\n",
       "      <td>89</td>\n",
       "      <td>94</td>\n",
       "    </tr>\n",
       "    <tr>\n",
       "      <th>林小玉</th>\n",
       "      <td>47</td>\n",
       "      <td>94</td>\n",
       "      <td>80</td>\n",
       "    </tr>\n",
       "  </tbody>\n",
       "</table>\n",
       "</div>"
      ],
      "text/plain": [
       "     數學  自然  社會\n",
       "李小美  76  93  56\n",
       "陳大同  91  89  94\n",
       "林小玉  47  94  80"
      ]
     },
     "execution_count": 61,
     "metadata": {},
     "output_type": "execute_result"
    }
   ],
   "source": [
    "df4.loc[\"李小美\":,'數學':'社會']"
   ]
  },
  {
   "cell_type": "code",
   "execution_count": 62,
   "id": "4285d1a9",
   "metadata": {},
   "outputs": [
    {
     "data": {
      "text/html": [
       "<div>\n",
       "<style scoped>\n",
       "    .dataframe tbody tr th:only-of-type {\n",
       "        vertical-align: middle;\n",
       "    }\n",
       "\n",
       "    .dataframe tbody tr th {\n",
       "        vertical-align: top;\n",
       "    }\n",
       "\n",
       "    .dataframe thead th {\n",
       "        text-align: right;\n",
       "    }\n",
       "</style>\n",
       "<table border=\"1\" class=\"dataframe\">\n",
       "  <thead>\n",
       "    <tr style=\"text-align: right;\">\n",
       "      <th></th>\n",
       "      <th>數學</th>\n",
       "      <th>自然</th>\n",
       "      <th>社會</th>\n",
       "    </tr>\n",
       "  </thead>\n",
       "  <tbody>\n",
       "    <tr>\n",
       "      <th>王小明</th>\n",
       "      <td>78</td>\n",
       "      <td>83</td>\n",
       "      <td>70</td>\n",
       "    </tr>\n",
       "    <tr>\n",
       "      <th>李小美</th>\n",
       "      <td>76</td>\n",
       "      <td>93</td>\n",
       "      <td>56</td>\n",
       "    </tr>\n",
       "  </tbody>\n",
       "</table>\n",
       "</div>"
      ],
      "text/plain": [
       "     數學  自然  社會\n",
       "王小明  78  83  70\n",
       "李小美  76  93  56"
      ]
     },
     "execution_count": 62,
     "metadata": {},
     "output_type": "execute_result"
    }
   ],
   "source": [
    "df4.loc[:\"李小美\",'數學':'社會']"
   ]
  },
  {
   "cell_type": "code",
   "execution_count": null,
   "id": "2ddab446",
   "metadata": {},
   "outputs": [],
   "source": []
  }
 ],
 "metadata": {
  "kernelspec": {
   "display_name": "Python 3 (ipykernel)",
   "language": "python",
   "name": "python3"
  },
  "language_info": {
   "codemirror_mode": {
    "name": "ipython",
    "version": 3
   },
   "file_extension": ".py",
   "mimetype": "text/x-python",
   "name": "python",
   "nbconvert_exporter": "python",
   "pygments_lexer": "ipython3",
   "version": "3.10.4"
  }
 },
 "nbformat": 4,
 "nbformat_minor": 5
}
